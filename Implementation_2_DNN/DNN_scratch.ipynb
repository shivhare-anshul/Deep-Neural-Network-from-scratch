{
 "cells": [
  {
   "cell_type": "markdown",
   "id": "conceptual-keeping",
   "metadata": {},
   "source": [
    "## Importing Libraries"
   ]
  },
  {
   "cell_type": "code",
   "execution_count": 1,
   "id": "former-boxing",
   "metadata": {},
   "outputs": [],
   "source": [
    "import os\n",
    "import numpy as np\n",
    "import matplotlib.pyplot as plt\n",
    "from sklearn.decomposition import PCA\n",
    "import copy\n",
    "import matplotlib.pyplot as plt"
   ]
  },
  {
   "cell_type": "code",
   "execution_count": null,
   "id": "raised-henry",
   "metadata": {},
   "outputs": [],
   "source": []
  },
  {
   "cell_type": "markdown",
   "id": "advanced-instrument",
   "metadata": {},
   "source": [
    "## Loading Training and Test Data\n",
    "### Classification\n",
    "1 for happy emotion\\\n",
    "0 for sad emotion"
   ]
  },
  {
   "cell_type": "code",
   "execution_count": 2,
   "id": "vertical-sender",
   "metadata": {},
   "outputs": [],
   "source": [
    "dirr=\"./emotion_classification/train/\"\n",
    "files=os.listdir(dirr)\n",
    "X_train=[]\n",
    "y_train=[]\n",
    "for i in range(len(files)):\n",
    "    X_train.append(plt.imread(dirr+files[i]).reshape(-1)/255)\n",
    "    if files[i][10:-4]=='happy':\n",
    "        y_train.append(1)\n",
    "    else:\n",
    "        y_train.append(0)\n",
    "X_train=np.array(X_train)\n",
    "y_train=np.array(y_train)"
   ]
  },
  {
   "cell_type": "code",
   "execution_count": 3,
   "id": "caring-regard",
   "metadata": {},
   "outputs": [],
   "source": [
    "dirr=\"./emotion_classification/test/\"\n",
    "files=os.listdir(dirr)\n",
    "X_test=[]\n",
    "y_test=[]\n",
    "for i in range(len(files)):\n",
    "    X_test.append(plt.imread(dirr+files[i]).reshape(-1)/255)\n",
    "    if files[i][10:-4]=='happy':\n",
    "        y_test.append(1)\n",
    "    else:\n",
    "        y_test.append(0)\n",
    "X_test=np.array(X_test)\n",
    "y_test=np.array(y_test)"
   ]
  },
  {
   "cell_type": "markdown",
   "id": "favorite-adrian",
   "metadata": {},
   "source": [
    "## PCA"
   ]
  },
  {
   "cell_type": "code",
   "execution_count": 4,
   "id": "complimentary-adaptation",
   "metadata": {},
   "outputs": [],
   "source": [
    "pca = PCA(n_components=12)\n",
    "pca.fit(X_train)\n",
    "X_train=pca.transform(X_train)\n",
    "X_test=pca.transform(X_test)"
   ]
  },
  {
   "cell_type": "markdown",
   "id": "daily-wilson",
   "metadata": {},
   "source": [
    "# Model"
   ]
  },
  {
   "cell_type": "code",
   "execution_count": 5,
   "id": "civic-budapest",
   "metadata": {},
   "outputs": [],
   "source": [
    "def BCE(y_pred,y_true):\n",
    "    return -sum(np.log(y_pred[y_true==1]))-sum(np.log(1-y_pred[y_true==0]))\n",
    "    \n",
    "class NN():\n",
    "    def __init__(self,num_hidden=10, momentum=False):\n",
    "        self.num_hidden= num_hidden\n",
    "        self.gamma=0.9 if momentum else 0\n",
    "        \n",
    "        np.random.seed(987)\n",
    "        \n",
    "        self.W1=np.random.randn(12,self.num_hidden)*np.sqrt(1/6)\n",
    "        self.b1=np.random.randn(self.num_hidden)*np.sqrt(1/6)\n",
    "        self.W2=np.random.randn(self.num_hidden,self.num_hidden)*np.sqrt(2/self.num_hidden)\n",
    "        self.b2=np.random.randn(self.num_hidden)*np.sqrt(2/self.num_hidden)\n",
    "        self.W3=np.random.randn(self.num_hidden,1)*np.sqrt(1/self.num_hidden)\n",
    "        self.b3=np.random.randn(1)*np.sqrt(1/self.num_hidden)\n",
    "        \n",
    "        self.grad_b3=0\n",
    "        self.grad_W3=np.zeros((self.num_hidden,1))\n",
    "        self.grad_b2=np.zeros(self.num_hidden)\n",
    "        self.grad_W2=np.zeros((self.num_hidden,self.num_hidden))\n",
    "        self.grad_b1=np.zeros(self.num_hidden)\n",
    "        self.grad_W1=np.zeros((12,self.num_hidden))\n",
    "        \n",
    "    def relu(self,temp):\n",
    "        temp2=copy.deepcopy(temp)\n",
    "        temp2[temp2<0]=0\n",
    "        return temp2\n",
    "    \n",
    "    def sigmoid(self,temp):\n",
    "        temp2=np.exp(-temp)+1\n",
    "        return 1/temp2\n",
    "        \n",
    "    def forward(self,data):\n",
    "        self.data=data\n",
    "        self.a1=(self.data@self.W1)+self.b1\n",
    "        self.z1=self.relu(self.a1)\n",
    "        self.a2=(self.z1@self.W2)+self.b2\n",
    "        self.z2=self.relu(self.a2)\n",
    "        self.a3=(self.z2@self.W3)+self.b3\n",
    "        self.z3=self.sigmoid(self.a3)\n",
    "        return self.z3\n",
    "    \n",
    "    def backward(self,y_true, lr):\n",
    "        N=y_true.shape[0]\n",
    "        \n",
    "        # Calculating delta^3\n",
    "        delta_3=np.zeros((N,1))\n",
    "        for i in range(N):\n",
    "            if y_true[i]==1:\n",
    "                delta_3[i]=-1/self.z3[i]\n",
    "            else:\n",
    "                delta_3[i]=1/(1-self.z3[i])\n",
    "        delta_3=delta_3*self.sigmoid(self.a3)*(1-self.sigmoid(self.a3))\n",
    "        \n",
    "        #Calculating delta^2\n",
    "        delta_2=1.0*(self.a2>0)\n",
    "        for i in range(N):\n",
    "            delta_2[i]=delta_3[i]*(self.W3*delta_2[i].reshape(-1,1)).reshape(-1)\n",
    "            \n",
    "        #Calculating delta^1\n",
    "        delta_1=1.0*(self.a1>0)\n",
    "        for i in range(N):\n",
    "            delta_1[i]=delta_1[i]*(self.W2@delta_2[i])\n",
    "        \n",
    "        #Updating b3 and W3\n",
    "        self.grad_b3=(self.gamma*self.grad_b3)+(lr*sum(delta_3)[0])\n",
    "        self.b3=self.b3-self.grad_b3\n",
    "        self.grad_W3=(self.gamma*self.grad_W3)+(lr*np.sum(delta_3*self.z2,axis=0).reshape(-1,1))\n",
    "        self.W3=self.W3-self.grad_W3\n",
    "        \n",
    "        #Updating b2 and W2\n",
    "        self.grad_b2=(self.gamma*self.grad_b2)+(lr*np.sum(delta_2,axis=0))\n",
    "        self.b2=self.b2-self.grad_b2\n",
    "        temp=np.zeros((self.num_hidden,self.num_hidden))\n",
    "        for i in range(N):\n",
    "            temp+=self.z1[i].reshape(-1,1)@delta_2[i].reshape(1,-1)\n",
    "        self.grad_W2=(self.gamma*self.grad_W2)+(lr*temp)\n",
    "        self.W2=self.W2-self.grad_W2\n",
    "        \n",
    "        #Updating b1 and W1\n",
    "        self.grad_b1=(self.gamma*self.grad_b1)+(lr*np.sum(delta_3,axis=0))\n",
    "        self.b1=self.b1-self.grad_b1\n",
    "        temp=np.zeros((12,self.num_hidden))\n",
    "        for i in range(N):\n",
    "            temp+=self.data[i].reshape(-1,1)@delta_1[i].reshape(1,-1)\n",
    "        self.grad_W1=(self.gamma*self.grad_W1)+(lr*temp)\n",
    "        self.W1=self.W1-self.grad_W1"
   ]
  },
  {
   "cell_type": "code",
   "execution_count": 6,
   "id": "basic-channels",
   "metadata": {},
   "outputs": [],
   "source": [
    "losses=np.zeros((4,20))"
   ]
  },
  {
   "cell_type": "markdown",
   "id": "supreme-membrane",
   "metadata": {},
   "source": [
    "## Model with 12 neurons in both hidden layer and trained without Momentum"
   ]
  },
  {
   "cell_type": "code",
   "execution_count": 7,
   "id": "wrong-analyst",
   "metadata": {},
   "outputs": [
    {
     "name": "stdout",
     "output_type": "stream",
     "text": [
      "Epoch = 0\tTraining Loss = 26.707\tAccuracy on Test Samples = 0.4 \n",
      "Epoch = 1\tTraining Loss = 18.289\tAccuracy on Test Samples = 0.6 \n",
      "Epoch = 2\tTraining Loss = 14.951\tAccuracy on Test Samples = 0.8 \n",
      "Epoch = 3\tTraining Loss = 13.213\tAccuracy on Test Samples = 0.8 \n",
      "Epoch = 4\tTraining Loss = 12.171\tAccuracy on Test Samples = 0.8 \n",
      "Epoch = 5\tTraining Loss = 11.440\tAccuracy on Test Samples = 0.8 \n",
      "Epoch = 6\tTraining Loss = 10.863\tAccuracy on Test Samples = 0.8 \n",
      "Epoch = 7\tTraining Loss = 10.373\tAccuracy on Test Samples = 0.8 \n",
      "Epoch = 8\tTraining Loss = 9.952\tAccuracy on Test Samples = 0.8 \n",
      "Epoch = 9\tTraining Loss = 9.536\tAccuracy on Test Samples = 0.8 \n",
      "Epoch = 10\tTraining Loss = 9.182\tAccuracy on Test Samples = 0.8 \n",
      "Epoch = 11\tTraining Loss = 8.812\tAccuracy on Test Samples = 0.7 \n",
      "Epoch = 12\tTraining Loss = 8.445\tAccuracy on Test Samples = 0.7 \n",
      "Epoch = 13\tTraining Loss = 8.097\tAccuracy on Test Samples = 0.7 \n",
      "Epoch = 14\tTraining Loss = 7.732\tAccuracy on Test Samples = 0.7 \n",
      "Epoch = 15\tTraining Loss = 7.378\tAccuracy on Test Samples = 0.7 \n",
      "Epoch = 16\tTraining Loss = 7.025\tAccuracy on Test Samples = 0.7 \n",
      "Epoch = 17\tTraining Loss = 6.689\tAccuracy on Test Samples = 0.7 \n",
      "Epoch = 18\tTraining Loss = 6.342\tAccuracy on Test Samples = 0.7 \n",
      "Epoch = 19\tTraining Loss = 6.047\tAccuracy on Test Samples = 0.7 \n"
     ]
    }
   ],
   "source": [
    "model1=NN()\n",
    "for epoch in range(20):\n",
    "    pred=model1.forward(X_train)\n",
    "    losses[0][epoch]=BCE(pred,y_train)[0]\n",
    "    print(f\"Epoch = {epoch}\\tTraining Loss = {losses[0][epoch]:.3f}\",end='\\t')\n",
    "    model1.backward(y_train,0.005)\n",
    "    pred=model1.forward(X_test)\n",
    "    pred=np.round(pred).reshape(-1)\n",
    "    print(f\"Accuracy on Test Samples = {sum(y_test==pred)/len(y_test)} \")"
   ]
  },
  {
   "cell_type": "markdown",
   "id": "indian-helping",
   "metadata": {},
   "source": [
    "## Model with 12 neurons in both hidden layer and trained with Momentum"
   ]
  },
  {
   "cell_type": "code",
   "execution_count": 8,
   "id": "stupid-links",
   "metadata": {},
   "outputs": [
    {
     "name": "stdout",
     "output_type": "stream",
     "text": [
      "Epoch = 0\tTraining Loss = 26.707\tAccuracy on Test Samples = 0.4 \n",
      "Epoch = 1\tTraining Loss = 18.289\tAccuracy on Test Samples = 0.3 \n",
      "Epoch = 2\tTraining Loss = 14.250\tAccuracy on Test Samples = 0.8 \n",
      "Epoch = 3\tTraining Loss = 12.266\tAccuracy on Test Samples = 0.7 \n",
      "Epoch = 4\tTraining Loss = 13.643\tAccuracy on Test Samples = 0.7 \n",
      "Epoch = 5\tTraining Loss = 12.378\tAccuracy on Test Samples = 0.8 \n",
      "Epoch = 6\tTraining Loss = 10.785\tAccuracy on Test Samples = 0.8 \n",
      "Epoch = 7\tTraining Loss = 9.202\tAccuracy on Test Samples = 0.7 \n",
      "Epoch = 8\tTraining Loss = 6.371\tAccuracy on Test Samples = 0.8 \n",
      "Epoch = 9\tTraining Loss = 5.624\tAccuracy on Test Samples = 0.8 \n",
      "Epoch = 10\tTraining Loss = 4.017\tAccuracy on Test Samples = 0.7 \n",
      "Epoch = 11\tTraining Loss = 2.860\tAccuracy on Test Samples = 0.7 \n",
      "Epoch = 12\tTraining Loss = 1.970\tAccuracy on Test Samples = 0.7 \n",
      "Epoch = 13\tTraining Loss = 1.586\tAccuracy on Test Samples = 0.7 \n",
      "Epoch = 14\tTraining Loss = 1.217\tAccuracy on Test Samples = 0.7 \n",
      "Epoch = 15\tTraining Loss = 0.814\tAccuracy on Test Samples = 0.7 \n",
      "Epoch = 16\tTraining Loss = 0.426\tAccuracy on Test Samples = 0.8 \n",
      "Epoch = 17\tTraining Loss = 0.268\tAccuracy on Test Samples = 0.7 \n",
      "Epoch = 18\tTraining Loss = 0.212\tAccuracy on Test Samples = 0.7 \n",
      "Epoch = 19\tTraining Loss = 0.163\tAccuracy on Test Samples = 0.7 \n"
     ]
    }
   ],
   "source": [
    "model2=NN(momentum=True)\n",
    "for epoch in range(20):\n",
    "    pred=model2.forward(X_train)\n",
    "    losses[1][epoch]=BCE(pred,y_train)[0]\n",
    "    print(f\"Epoch = {epoch}\\tTraining Loss = {losses[1][epoch]:.3f}\",end='\\t')\n",
    "    model2.backward(y_train,0.005)\n",
    "    pred=model2.forward(X_test)\n",
    "    pred=np.round(pred).reshape(-1)\n",
    "    print(f\"Accuracy on Test Samples = {sum(y_test==pred)/len(y_test)} \")"
   ]
  },
  {
   "cell_type": "markdown",
   "id": "endangered-prairie",
   "metadata": {},
   "source": [
    "## Model with 15 neurons in both hidden layer and trained without Momentum"
   ]
  },
  {
   "cell_type": "code",
   "execution_count": 9,
   "id": "interracial-nudist",
   "metadata": {},
   "outputs": [
    {
     "name": "stdout",
     "output_type": "stream",
     "text": [
      "Epoch = 0\tTraining Loss = 23.004\tAccuracy on Test Samples= 0.4 \n",
      "Epoch = 1\tTraining Loss = 17.304\tAccuracy on Test Samples= 0.4 \n",
      "Epoch = 2\tTraining Loss = 14.418\tAccuracy on Test Samples= 0.5 \n",
      "Epoch = 3\tTraining Loss = 12.649\tAccuracy on Test Samples= 0.3 \n",
      "Epoch = 4\tTraining Loss = 11.444\tAccuracy on Test Samples= 0.5 \n",
      "Epoch = 5\tTraining Loss = 10.492\tAccuracy on Test Samples= 0.3 \n",
      "Epoch = 6\tTraining Loss = 9.702\tAccuracy on Test Samples= 0.3 \n",
      "Epoch = 7\tTraining Loss = 8.852\tAccuracy on Test Samples= 0.4 \n",
      "Epoch = 8\tTraining Loss = 8.149\tAccuracy on Test Samples= 0.4 \n",
      "Epoch = 9\tTraining Loss = 7.531\tAccuracy on Test Samples= 0.4 \n",
      "Epoch = 10\tTraining Loss = 6.936\tAccuracy on Test Samples= 0.4 \n",
      "Epoch = 11\tTraining Loss = 6.387\tAccuracy on Test Samples= 0.4 \n",
      "Epoch = 12\tTraining Loss = 5.883\tAccuracy on Test Samples= 0.4 \n",
      "Epoch = 13\tTraining Loss = 5.398\tAccuracy on Test Samples= 0.4 \n",
      "Epoch = 14\tTraining Loss = 4.877\tAccuracy on Test Samples= 0.4 \n",
      "Epoch = 15\tTraining Loss = 4.442\tAccuracy on Test Samples= 0.4 \n",
      "Epoch = 16\tTraining Loss = 4.074\tAccuracy on Test Samples= 0.4 \n",
      "Epoch = 17\tTraining Loss = 3.737\tAccuracy on Test Samples= 0.4 \n",
      "Epoch = 18\tTraining Loss = 3.441\tAccuracy on Test Samples= 0.4 \n",
      "Epoch = 19\tTraining Loss = 3.176\tAccuracy on Test Samples= 0.4 \n"
     ]
    }
   ],
   "source": [
    "model3=NN(num_hidden=15)\n",
    "for epoch in range(20):\n",
    "    pred=model3.forward(X_train)\n",
    "    losses[2][epoch]=BCE(pred,y_train)[0]\n",
    "    print(f\"Epoch = {epoch}\\tTraining Loss = {losses[2][epoch]:.3f}\",end='\\t')\n",
    "    model3.backward(y_train,0.005)\n",
    "    pred=model3.forward(X_test)\n",
    "    pred=np.round(pred).reshape(-1)\n",
    "    print(f\"Accuracy on Test Samples= {sum(y_test==pred)/len(y_test)} \")"
   ]
  },
  {
   "cell_type": "markdown",
   "id": "imposed-auckland",
   "metadata": {},
   "source": [
    "## Model with 15 neurons in both hidden layer and trained with Momentum"
   ]
  },
  {
   "cell_type": "code",
   "execution_count": 10,
   "id": "alternate-trunk",
   "metadata": {},
   "outputs": [
    {
     "name": "stdout",
     "output_type": "stream",
     "text": [
      "Epoch = 0\tTraining Loss = 23.004\tAccuracy on Test Samples = 0.4 \n",
      "Epoch = 1\tTraining Loss = 17.304\tAccuracy on Test Samples = 0.5 \n",
      "Epoch = 2\tTraining Loss = 12.696\tAccuracy on Test Samples = 0.4 \n",
      "Epoch = 3\tTraining Loss = 9.770\tAccuracy on Test Samples = 0.3 \n",
      "Epoch = 4\tTraining Loss = 9.549\tAccuracy on Test Samples = 0.5 \n",
      "Epoch = 5\tTraining Loss = 7.739\tAccuracy on Test Samples = 0.5 \n",
      "Epoch = 6\tTraining Loss = 5.810\tAccuracy on Test Samples = 0.4 \n",
      "Epoch = 7\tTraining Loss = 4.481\tAccuracy on Test Samples = 0.5 \n",
      "Epoch = 8\tTraining Loss = 3.179\tAccuracy on Test Samples = 0.5 \n",
      "Epoch = 9\tTraining Loss = 2.139\tAccuracy on Test Samples = 0.5 \n",
      "Epoch = 10\tTraining Loss = 1.555\tAccuracy on Test Samples = 0.5 \n",
      "Epoch = 11\tTraining Loss = 1.342\tAccuracy on Test Samples = 0.5 \n",
      "Epoch = 12\tTraining Loss = 1.191\tAccuracy on Test Samples = 0.5 \n",
      "Epoch = 13\tTraining Loss = 0.947\tAccuracy on Test Samples = 0.5 \n",
      "Epoch = 14\tTraining Loss = 0.671\tAccuracy on Test Samples = 0.5 \n",
      "Epoch = 15\tTraining Loss = 0.417\tAccuracy on Test Samples = 0.6 \n",
      "Epoch = 16\tTraining Loss = 0.290\tAccuracy on Test Samples = 0.6 \n",
      "Epoch = 17\tTraining Loss = 0.234\tAccuracy on Test Samples = 0.6 \n",
      "Epoch = 18\tTraining Loss = 0.199\tAccuracy on Test Samples = 0.6 \n",
      "Epoch = 19\tTraining Loss = 0.176\tAccuracy on Test Samples = 0.6 \n"
     ]
    }
   ],
   "source": [
    "model4=NN(num_hidden=15, momentum=True)\n",
    "for epoch in range(20):\n",
    "    pred=model4.forward(X_train)\n",
    "    losses[3][epoch]=BCE(pred,y_train)[0]\n",
    "    print(f\"Epoch = {epoch}\\tTraining Loss = {losses[3][epoch]:.3f}\",end='\\t')\n",
    "    model4.backward(y_train,0.005)\n",
    "    pred=model4.forward(X_test)\n",
    "    pred=np.round(pred).reshape(-1)\n",
    "    print(f\"Accuracy on Test Samples = {sum(y_test==pred)/len(y_test)} \")"
   ]
  },
  {
   "cell_type": "code",
   "execution_count": 11,
   "id": "impaired-allowance",
   "metadata": {},
   "outputs": [
    {
     "data": {
      "image/png": "[encoded data removed]",
      "text/plain": [
       "<Figure size 432x288 with 1 Axes>"
      ]
     },
     "metadata": {
      "needs_background": "light"
     },
     "output_type": "display_data"
    }
   ],
   "source": [
    "plt.plot(np.arange(1,21),losses[0],label='Without Momentum')\n",
    "plt.plot(np.arange(1,21),losses[1],label='With Momentum')\n",
    "plt.xlabel(\"Epochs\")\n",
    "plt.ylabel(\"Training Loss\")\n",
    "plt.legend()\n",
    "plt.title(\"Model with 12 Layer in Hidden Layer\")\n",
    "plt.savefig('12.png')"
   ]
  },
  {
   "cell_type": "code",
   "execution_count": 12,
   "id": "physical-nebraska",
   "metadata": {},
   "outputs": [
    {
     "data": {
      "image/png": "[encoded data removed]",
      "text/plain": [
       "<Figure size 432x288 with 1 Axes>"
      ]
     },
     "metadata": {
      "needs_background": "light"
     },
     "output_type": "display_data"
    }
   ],
   "source": [
    "plt.plot(np.arange(1,21),losses[2],label='Without Momentum')\n",
    "plt.plot(np.arange(1,21),losses[3],label='With Momentum')\n",
    "plt.xlabel(\"Epochs\")\n",
    "plt.ylabel(\"Training Loss\")\n",
    "plt.legend()\n",
    "plt.title(\"Model with 15 Layer in Hidden Layer\")\n",
    "plt.savefig('15.png')"
   ]
  },
  {
   "cell_type": "code",
   "execution_count": null,
   "id": "coupled-buyer",
   "metadata": {},
   "outputs": [],
   "source": []
  },
  {
   "cell_type": "code",
   "execution_count": null,
   "id": "entertaining-floor",
   "metadata": {},
   "outputs": [],
   "source": []
  }
 ],
 "metadata": {
  "kernelspec": {
   "display_name": "Python 3",
   "language": "python",
   "name": "python3"
  },
  "language_info": {
   "codemirror_mode": {
    "name": "ipython",
    "version": 3
   },
   "file_extension": ".py",
   "mimetype": "text/x-python",
   "name": "python",
   "nbconvert_exporter": "python",
   "pygments_lexer": "ipython3",
   "version": "3.6.13"
  }
 },
 "nbformat": 4,
 "nbformat_minor": 5
}
